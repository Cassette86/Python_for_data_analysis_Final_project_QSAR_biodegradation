{
 "cells": [
  {
   "cell_type": "markdown",
   "metadata": {},
   "source": [
    "<h1>Final Project</h1>"
   ]
  },
  {
   "cell_type": "markdown",
   "metadata": {},
   "source": [
<<<<<<< Updated upstream
    "## Import libraries"
=======
    "## Data collect"
>>>>>>> Stashed changes
   ]
  },
  {
   "cell_type": "markdown",
   "metadata": {},
   "source": [
<<<<<<< Updated upstream
    "Import"
=======
    "Import libraries"
>>>>>>> Stashed changes
   ]
  },
  {
   "cell_type": "code",
   "execution_count": 1,
   "metadata": {},
   "outputs": [],
   "source": [
    "import numpy as np  \n",
    "import pandas as pd\n",
    "import matplotlib.pyplot as plt\n",
    "import seaborn as sns"
   ]
  },
  {
   "cell_type": "markdown",
   "metadata": {},
   "source": [
    "## Data collect"
   ]
  },
  {
   "cell_type": "markdown",
   "metadata": {},
   "source": [
    "Database import"
   ]
  },
  {
   "cell_type": "code",
   "execution_count": 3,
   "metadata": {},
   "outputs": [
    {
     "data": {
      "text/html": [
       "<div>\n",
       "<style scoped>\n",
       "    .dataframe tbody tr th:only-of-type {\n",
       "        vertical-align: middle;\n",
       "    }\n",
       "\n",
       "    .dataframe tbody tr th {\n",
       "        vertical-align: top;\n",
       "    }\n",
       "\n",
       "    .dataframe thead th {\n",
       "        text-align: right;\n",
       "    }\n",
       "</style>\n",
       "<table border=\"1\" class=\"dataframe\">\n",
       "  <thead>\n",
       "    <tr style=\"text-align: right;\">\n",
       "      <th></th>\n",
       "      <th>SpMax_L</th>\n",
       "      <th>J_Dz(e)</th>\n",
       "      <th>nHM</th>\n",
       "      <th>F01[N-N]</th>\n",
       "      <th>F04[C-N]</th>\n",
       "      <th>NssssC</th>\n",
       "      <th>nCb-</th>\n",
       "      <th>C%</th>\n",
       "      <th>nCp</th>\n",
       "      <th>nO</th>\n",
       "      <th>...</th>\n",
       "      <th>F02[C-N]</th>\n",
       "      <th>nHDon</th>\n",
       "      <th>SpMax_B(m)</th>\n",
       "      <th>Psi_i_A</th>\n",
       "      <th>nN</th>\n",
       "      <th>SM6_B(m)</th>\n",
       "      <th>nArCOOR</th>\n",
       "      <th>nX</th>\n",
       "      <th>experimental class</th>\n",
       "      <th>Unnamed: 42</th>\n",
       "    </tr>\n",
       "  </thead>\n",
       "  <tbody>\n",
       "    <tr>\n",
       "      <th>0</th>\n",
       "      <td>3.919</td>\n",
       "      <td>2.6909</td>\n",
       "      <td>0</td>\n",
       "      <td>0</td>\n",
       "      <td>0</td>\n",
       "      <td>0</td>\n",
       "      <td>0</td>\n",
       "      <td>31.4</td>\n",
       "      <td>2</td>\n",
       "      <td>0</td>\n",
       "      <td>...</td>\n",
       "      <td>0</td>\n",
       "      <td>0</td>\n",
       "      <td>2.949</td>\n",
       "      <td>1.591</td>\n",
       "      <td>0</td>\n",
       "      <td>7.253</td>\n",
       "      <td>0</td>\n",
       "      <td>0</td>\n",
       "      <td>RB</td>\n",
       "      <td>NaN</td>\n",
       "    </tr>\n",
       "    <tr>\n",
       "      <th>1</th>\n",
       "      <td>4.170</td>\n",
       "      <td>2.1144</td>\n",
       "      <td>0</td>\n",
       "      <td>0</td>\n",
       "      <td>0</td>\n",
       "      <td>0</td>\n",
       "      <td>0</td>\n",
       "      <td>30.8</td>\n",
       "      <td>1</td>\n",
       "      <td>1</td>\n",
       "      <td>...</td>\n",
       "      <td>0</td>\n",
       "      <td>0</td>\n",
       "      <td>3.315</td>\n",
       "      <td>1.967</td>\n",
       "      <td>0</td>\n",
       "      <td>7.257</td>\n",
       "      <td>0</td>\n",
       "      <td>0</td>\n",
       "      <td>RB</td>\n",
       "      <td>NaN</td>\n",
       "    </tr>\n",
       "    <tr>\n",
       "      <th>2</th>\n",
       "      <td>3.932</td>\n",
       "      <td>3.2512</td>\n",
       "      <td>0</td>\n",
       "      <td>0</td>\n",
       "      <td>0</td>\n",
       "      <td>0</td>\n",
       "      <td>0</td>\n",
       "      <td>26.7</td>\n",
       "      <td>2</td>\n",
       "      <td>4</td>\n",
       "      <td>...</td>\n",
       "      <td>0</td>\n",
       "      <td>1</td>\n",
       "      <td>3.076</td>\n",
       "      <td>2.417</td>\n",
       "      <td>0</td>\n",
       "      <td>7.601</td>\n",
       "      <td>0</td>\n",
       "      <td>0</td>\n",
       "      <td>RB</td>\n",
       "      <td>NaN</td>\n",
       "    </tr>\n",
       "    <tr>\n",
       "      <th>3</th>\n",
       "      <td>3.000</td>\n",
       "      <td>2.7098</td>\n",
       "      <td>0</td>\n",
       "      <td>0</td>\n",
       "      <td>0</td>\n",
       "      <td>0</td>\n",
       "      <td>0</td>\n",
       "      <td>20.0</td>\n",
       "      <td>0</td>\n",
       "      <td>2</td>\n",
       "      <td>...</td>\n",
       "      <td>0</td>\n",
       "      <td>1</td>\n",
       "      <td>3.046</td>\n",
       "      <td>5.000</td>\n",
       "      <td>0</td>\n",
       "      <td>6.690</td>\n",
       "      <td>0</td>\n",
       "      <td>0</td>\n",
       "      <td>RB</td>\n",
       "      <td>NaN</td>\n",
       "    </tr>\n",
       "    <tr>\n",
       "      <th>4</th>\n",
       "      <td>4.236</td>\n",
       "      <td>3.3944</td>\n",
       "      <td>0</td>\n",
       "      <td>0</td>\n",
       "      <td>0</td>\n",
       "      <td>0</td>\n",
       "      <td>0</td>\n",
       "      <td>29.4</td>\n",
       "      <td>2</td>\n",
       "      <td>4</td>\n",
       "      <td>...</td>\n",
       "      <td>0</td>\n",
       "      <td>0</td>\n",
       "      <td>3.351</td>\n",
       "      <td>2.405</td>\n",
       "      <td>0</td>\n",
       "      <td>8.003</td>\n",
       "      <td>0</td>\n",
       "      <td>0</td>\n",
       "      <td>RB</td>\n",
       "      <td>NaN</td>\n",
       "    </tr>\n",
       "  </tbody>\n",
       "</table>\n",
       "<p>5 rows × 43 columns</p>\n",
       "</div>"
      ],
      "text/plain": [
       "   SpMax_L  J_Dz(e)  nHM  F01[N-N]  F04[C-N]  NssssC  nCb-    C%  nCp  nO  \\\n",
       "0    3.919   2.6909    0         0         0       0     0  31.4    2   0   \n",
       "1    4.170   2.1144    0         0         0       0     0  30.8    1   1   \n",
       "2    3.932   3.2512    0         0         0       0     0  26.7    2   4   \n",
       "3    3.000   2.7098    0         0         0       0     0  20.0    0   2   \n",
       "4    4.236   3.3944    0         0         0       0     0  29.4    2   4   \n",
       "\n",
       "   ...  F02[C-N]  nHDon  SpMax_B(m)  Psi_i_A  nN  SM6_B(m)  nArCOOR  nX  \\\n",
       "0  ...         0      0       2.949    1.591   0     7.253        0   0   \n",
       "1  ...         0      0       3.315    1.967   0     7.257        0   0   \n",
       "2  ...         0      1       3.076    2.417   0     7.601        0   0   \n",
       "3  ...         0      1       3.046    5.000   0     6.690        0   0   \n",
       "4  ...         0      0       3.351    2.405   0     8.003        0   0   \n",
       "\n",
       "   experimental class  Unnamed: 42  \n",
       "0                  RB          NaN  \n",
       "1                  RB          NaN  \n",
       "2                  RB          NaN  \n",
       "3                  RB          NaN  \n",
       "4                  RB          NaN  \n",
       "\n",
       "[5 rows x 43 columns]"
      ]
     },
     "execution_count": 3,
     "metadata": {},
     "output_type": "execute_result"
    }
   ],
   "source": [
    "df=pd.read_csv('biodeg.csv',sep=';')\n",
    "df.head(5)"
   ]
  },
  {
   "cell_type": "markdown",
   "metadata": {},
   "source": [
    "Some informations"
   ]
  },
  {
   "cell_type": "code",
<<<<<<< Updated upstream
   "execution_count": 4,
=======
   "execution_count": 9,
>>>>>>> Stashed changes
   "metadata": {},
   "outputs": [
    {
     "name": "stdout",
     "output_type": "stream",
     "text": [
      "Number of columns:  42\n",
      "Number of rows:  1055\n"
     ]
    }
   ],
   "source": [
    "#How many columns do we have in the dataframe? How many rows do we have?\n",
    "print(\"Number of columns: \", len(df.columns))\n",
    "print(\"Number of rows: \", len(df.index))"
   ]
  },
  {
   "cell_type": "code",
   "execution_count": 5,
   "metadata": {},
   "outputs": [
    {
     "name": "stdout",
     "output_type": "stream",
     "text": [
      "<class 'pandas.core.frame.DataFrame'>\n",
      "RangeIndex: 1055 entries, 0 to 1054\n",
      "Data columns (total 43 columns):\n",
      " #   Column              Non-Null Count  Dtype  \n",
      "---  ------              --------------  -----  \n",
      " 0   SpMax_L             1055 non-null   float64\n",
      " 1   J_Dz(e)             1055 non-null   float64\n",
      " 2   nHM                 1055 non-null   int64  \n",
      " 3   F01[N-N]            1055 non-null   int64  \n",
      " 4   F04[C-N]            1055 non-null   int64  \n",
      " 5   NssssC              1055 non-null   int64  \n",
      " 6   nCb-                1055 non-null   int64  \n",
      " 7   C%                  1055 non-null   float64\n",
      " 8   nCp                 1055 non-null   int64  \n",
      " 9   nO                  1055 non-null   int64  \n",
      " 10  F03[C-N]            1055 non-null   int64  \n",
      " 11  SdssC               1055 non-null   float64\n",
      " 12  HyWi_B(m)           1055 non-null   float64\n",
      " 13  LOC                 1055 non-null   float64\n",
      " 14  SM6_L               1055 non-null   float64\n",
      " 15  F03[C-O]            1055 non-null   int64  \n",
      " 16  Me                  1055 non-null   float64\n",
      " 17  Mi                  1055 non-null   float64\n",
      " 18  nN-N                1055 non-null   int64  \n",
      " 19  nArNO2              1055 non-null   int64  \n",
      " 20  nCRX3               1055 non-null   int64  \n",
      " 21  SpPosA_B(p)         1055 non-null   float64\n",
      " 22  nCIR                1055 non-null   int64  \n",
      " 23  B01[C-Br]           1055 non-null   int64  \n",
      " 24  B03[C-Cl]           1055 non-null   int64  \n",
      " 25  N-073               1055 non-null   int64  \n",
      " 26  SpMax_A             1055 non-null   float64\n",
      " 27  Psi_i_1d            1055 non-null   float64\n",
      " 28  B04[C-Br]           1055 non-null   int64  \n",
      " 29  SdO                 1055 non-null   float64\n",
      " 30  TI2_L               1055 non-null   float64\n",
      " 31  nCrt                1055 non-null   int64  \n",
      " 32  C-026               1055 non-null   int64  \n",
      " 33  F02[C-N]            1055 non-null   int64  \n",
      " 34  nHDon               1055 non-null   int64  \n",
      " 35  SpMax_B(m)          1055 non-null   float64\n",
      " 36  Psi_i_A             1055 non-null   float64\n",
      " 37  nN                  1055 non-null   int64  \n",
      " 38  SM6_B(m)            1055 non-null   float64\n",
      " 39  nArCOOR             1055 non-null   int64  \n",
      " 40  nX                  1055 non-null   int64  \n",
      " 41  experimental class  1055 non-null   object \n",
      " 42  Unnamed: 42         0 non-null      float64\n",
      "dtypes: float64(18), int64(24), object(1)\n",
      "memory usage: 354.5+ KB\n"
     ]
    }
   ],
   "source": [
    "df.info()"
   ]
  },
  {
   "cell_type": "code",
   "execution_count": 6,
   "metadata": {},
   "outputs": [
    {
     "data": {
      "text/html": [
       "<div>\n",
       "<style scoped>\n",
       "    .dataframe tbody tr th:only-of-type {\n",
       "        vertical-align: middle;\n",
       "    }\n",
       "\n",
       "    .dataframe tbody tr th {\n",
       "        vertical-align: top;\n",
       "    }\n",
       "\n",
       "    .dataframe thead th {\n",
       "        text-align: right;\n",
       "    }\n",
       "</style>\n",
       "<table border=\"1\" class=\"dataframe\">\n",
       "  <thead>\n",
       "    <tr style=\"text-align: right;\">\n",
       "      <th></th>\n",
       "      <th>SpMax_L</th>\n",
       "      <th>J_Dz(e)</th>\n",
       "      <th>nHM</th>\n",
       "      <th>F01[N-N]</th>\n",
       "      <th>F04[C-N]</th>\n",
       "      <th>NssssC</th>\n",
       "      <th>nCb-</th>\n",
       "      <th>C%</th>\n",
       "      <th>nCp</th>\n",
       "      <th>nO</th>\n",
       "      <th>...</th>\n",
       "      <th>C-026</th>\n",
       "      <th>F02[C-N]</th>\n",
       "      <th>nHDon</th>\n",
       "      <th>SpMax_B(m)</th>\n",
       "      <th>Psi_i_A</th>\n",
       "      <th>nN</th>\n",
       "      <th>SM6_B(m)</th>\n",
       "      <th>nArCOOR</th>\n",
       "      <th>nX</th>\n",
       "      <th>Unnamed: 42</th>\n",
       "    </tr>\n",
       "  </thead>\n",
       "  <tbody>\n",
       "    <tr>\n",
       "      <th>count</th>\n",
       "      <td>1055.000000</td>\n",
       "      <td>1055.000000</td>\n",
       "      <td>1055.000000</td>\n",
       "      <td>1055.000000</td>\n",
       "      <td>1055.000000</td>\n",
       "      <td>1055.000000</td>\n",
       "      <td>1055.000000</td>\n",
       "      <td>1055.000000</td>\n",
       "      <td>1055.000000</td>\n",
       "      <td>1055.000000</td>\n",
       "      <td>...</td>\n",
       "      <td>1055.000000</td>\n",
       "      <td>1055.000000</td>\n",
       "      <td>1055.000000</td>\n",
       "      <td>1055.000000</td>\n",
       "      <td>1055.000000</td>\n",
       "      <td>1055.000000</td>\n",
       "      <td>1055.000000</td>\n",
       "      <td>1055.000000</td>\n",
       "      <td>1055.000000</td>\n",
       "      <td>0.0</td>\n",
       "    </tr>\n",
       "    <tr>\n",
       "      <th>mean</th>\n",
       "      <td>4.782644</td>\n",
       "      <td>3.069508</td>\n",
       "      <td>0.716588</td>\n",
       "      <td>0.042654</td>\n",
       "      <td>0.980095</td>\n",
       "      <td>0.290047</td>\n",
       "      <td>1.646445</td>\n",
       "      <td>37.055640</td>\n",
       "      <td>1.376303</td>\n",
       "      <td>1.803791</td>\n",
       "      <td>...</td>\n",
       "      <td>0.883412</td>\n",
       "      <td>1.274882</td>\n",
       "      <td>0.961137</td>\n",
       "      <td>3.918240</td>\n",
       "      <td>2.558417</td>\n",
       "      <td>0.686256</td>\n",
       "      <td>8.629492</td>\n",
       "      <td>0.051185</td>\n",
       "      <td>0.723223</td>\n",
       "      <td>NaN</td>\n",
       "    </tr>\n",
       "    <tr>\n",
       "      <th>std</th>\n",
       "      <td>0.546916</td>\n",
       "      <td>0.831308</td>\n",
       "      <td>1.462452</td>\n",
       "      <td>0.256010</td>\n",
       "      <td>2.332955</td>\n",
       "      <td>1.073771</td>\n",
       "      <td>2.224822</td>\n",
       "      <td>9.144466</td>\n",
       "      <td>1.963521</td>\n",
       "      <td>1.775435</td>\n",
       "      <td>...</td>\n",
       "      <td>1.520467</td>\n",
       "      <td>2.273994</td>\n",
       "      <td>1.257013</td>\n",
       "      <td>0.999602</td>\n",
       "      <td>0.642765</td>\n",
       "      <td>1.090389</td>\n",
       "      <td>1.241986</td>\n",
       "      <td>0.318970</td>\n",
       "      <td>2.239286</td>\n",
       "      <td>NaN</td>\n",
       "    </tr>\n",
       "    <tr>\n",
       "      <th>min</th>\n",
       "      <td>2.000000</td>\n",
       "      <td>0.803900</td>\n",
       "      <td>0.000000</td>\n",
       "      <td>0.000000</td>\n",
       "      <td>0.000000</td>\n",
       "      <td>0.000000</td>\n",
       "      <td>0.000000</td>\n",
       "      <td>0.000000</td>\n",
       "      <td>0.000000</td>\n",
       "      <td>0.000000</td>\n",
       "      <td>...</td>\n",
       "      <td>0.000000</td>\n",
       "      <td>0.000000</td>\n",
       "      <td>0.000000</td>\n",
       "      <td>2.267000</td>\n",
       "      <td>1.467000</td>\n",
       "      <td>0.000000</td>\n",
       "      <td>4.917000</td>\n",
       "      <td>0.000000</td>\n",
       "      <td>0.000000</td>\n",
       "      <td>NaN</td>\n",
       "    </tr>\n",
       "    <tr>\n",
       "      <th>25%</th>\n",
       "      <td>4.481000</td>\n",
       "      <td>2.502750</td>\n",
       "      <td>0.000000</td>\n",
       "      <td>0.000000</td>\n",
       "      <td>0.000000</td>\n",
       "      <td>0.000000</td>\n",
       "      <td>0.000000</td>\n",
       "      <td>30.450000</td>\n",
       "      <td>0.000000</td>\n",
       "      <td>0.000000</td>\n",
       "      <td>...</td>\n",
       "      <td>0.000000</td>\n",
       "      <td>0.000000</td>\n",
       "      <td>0.000000</td>\n",
       "      <td>3.487500</td>\n",
       "      <td>2.103000</td>\n",
       "      <td>0.000000</td>\n",
       "      <td>7.991000</td>\n",
       "      <td>0.000000</td>\n",
       "      <td>0.000000</td>\n",
       "      <td>NaN</td>\n",
       "    </tr>\n",
       "    <tr>\n",
       "      <th>50%</th>\n",
       "      <td>4.828000</td>\n",
       "      <td>3.046300</td>\n",
       "      <td>0.000000</td>\n",
       "      <td>0.000000</td>\n",
       "      <td>0.000000</td>\n",
       "      <td>0.000000</td>\n",
       "      <td>1.000000</td>\n",
       "      <td>37.500000</td>\n",
       "      <td>1.000000</td>\n",
       "      <td>2.000000</td>\n",
       "      <td>...</td>\n",
       "      <td>0.000000</td>\n",
       "      <td>0.000000</td>\n",
       "      <td>1.000000</td>\n",
       "      <td>3.726000</td>\n",
       "      <td>2.458000</td>\n",
       "      <td>0.000000</td>\n",
       "      <td>8.499000</td>\n",
       "      <td>0.000000</td>\n",
       "      <td>0.000000</td>\n",
       "      <td>NaN</td>\n",
       "    </tr>\n",
       "    <tr>\n",
       "      <th>75%</th>\n",
       "      <td>5.125000</td>\n",
       "      <td>3.437650</td>\n",
       "      <td>1.000000</td>\n",
       "      <td>0.000000</td>\n",
       "      <td>1.000000</td>\n",
       "      <td>0.000000</td>\n",
       "      <td>3.000000</td>\n",
       "      <td>43.400000</td>\n",
       "      <td>2.000000</td>\n",
       "      <td>3.000000</td>\n",
       "      <td>...</td>\n",
       "      <td>1.000000</td>\n",
       "      <td>2.000000</td>\n",
       "      <td>2.000000</td>\n",
       "      <td>3.987000</td>\n",
       "      <td>2.870500</td>\n",
       "      <td>1.000000</td>\n",
       "      <td>9.020500</td>\n",
       "      <td>0.000000</td>\n",
       "      <td>0.000000</td>\n",
       "      <td>NaN</td>\n",
       "    </tr>\n",
       "    <tr>\n",
       "      <th>max</th>\n",
       "      <td>6.496000</td>\n",
       "      <td>9.177500</td>\n",
       "      <td>12.000000</td>\n",
       "      <td>3.000000</td>\n",
       "      <td>36.000000</td>\n",
       "      <td>13.000000</td>\n",
       "      <td>18.000000</td>\n",
       "      <td>60.700000</td>\n",
       "      <td>24.000000</td>\n",
       "      <td>12.000000</td>\n",
       "      <td>...</td>\n",
       "      <td>12.000000</td>\n",
       "      <td>18.000000</td>\n",
       "      <td>7.000000</td>\n",
       "      <td>10.695000</td>\n",
       "      <td>5.825000</td>\n",
       "      <td>8.000000</td>\n",
       "      <td>14.700000</td>\n",
       "      <td>4.000000</td>\n",
       "      <td>27.000000</td>\n",
       "      <td>NaN</td>\n",
       "    </tr>\n",
       "  </tbody>\n",
       "</table>\n",
       "<p>8 rows × 42 columns</p>\n",
       "</div>"
      ],
      "text/plain": [
       "           SpMax_L      J_Dz(e)          nHM     F01[N-N]     F04[C-N]  \\\n",
       "count  1055.000000  1055.000000  1055.000000  1055.000000  1055.000000   \n",
       "mean      4.782644     3.069508     0.716588     0.042654     0.980095   \n",
       "std       0.546916     0.831308     1.462452     0.256010     2.332955   \n",
       "min       2.000000     0.803900     0.000000     0.000000     0.000000   \n",
       "25%       4.481000     2.502750     0.000000     0.000000     0.000000   \n",
       "50%       4.828000     3.046300     0.000000     0.000000     0.000000   \n",
       "75%       5.125000     3.437650     1.000000     0.000000     1.000000   \n",
       "max       6.496000     9.177500    12.000000     3.000000    36.000000   \n",
       "\n",
       "            NssssC         nCb-           C%          nCp           nO  ...  \\\n",
       "count  1055.000000  1055.000000  1055.000000  1055.000000  1055.000000  ...   \n",
       "mean      0.290047     1.646445    37.055640     1.376303     1.803791  ...   \n",
       "std       1.073771     2.224822     9.144466     1.963521     1.775435  ...   \n",
       "min       0.000000     0.000000     0.000000     0.000000     0.000000  ...   \n",
       "25%       0.000000     0.000000    30.450000     0.000000     0.000000  ...   \n",
       "50%       0.000000     1.000000    37.500000     1.000000     2.000000  ...   \n",
       "75%       0.000000     3.000000    43.400000     2.000000     3.000000  ...   \n",
       "max      13.000000    18.000000    60.700000    24.000000    12.000000  ...   \n",
       "\n",
       "             C-026     F02[C-N]        nHDon   SpMax_B(m)      Psi_i_A  \\\n",
       "count  1055.000000  1055.000000  1055.000000  1055.000000  1055.000000   \n",
       "mean      0.883412     1.274882     0.961137     3.918240     2.558417   \n",
       "std       1.520467     2.273994     1.257013     0.999602     0.642765   \n",
       "min       0.000000     0.000000     0.000000     2.267000     1.467000   \n",
       "25%       0.000000     0.000000     0.000000     3.487500     2.103000   \n",
       "50%       0.000000     0.000000     1.000000     3.726000     2.458000   \n",
       "75%       1.000000     2.000000     2.000000     3.987000     2.870500   \n",
       "max      12.000000    18.000000     7.000000    10.695000     5.825000   \n",
       "\n",
       "                nN     SM6_B(m)      nArCOOR           nX  Unnamed: 42  \n",
       "count  1055.000000  1055.000000  1055.000000  1055.000000          0.0  \n",
       "mean      0.686256     8.629492     0.051185     0.723223          NaN  \n",
       "std       1.090389     1.241986     0.318970     2.239286          NaN  \n",
       "min       0.000000     4.917000     0.000000     0.000000          NaN  \n",
       "25%       0.000000     7.991000     0.000000     0.000000          NaN  \n",
       "50%       0.000000     8.499000     0.000000     0.000000          NaN  \n",
       "75%       1.000000     9.020500     0.000000     0.000000          NaN  \n",
       "max       8.000000    14.700000     4.000000    27.000000          NaN  \n",
       "\n",
       "[8 rows x 42 columns]"
      ]
     },
     "execution_count": 6,
     "metadata": {},
     "output_type": "execute_result"
    }
   ],
   "source": [
    "df.describe()"
   ]
  },
  {
   "cell_type": "markdown",
   "metadata": {},
   "source": [
    "## Data Pre-processing"
   ]
  },
  {
   "cell_type": "markdown",
   "metadata": {},
   "source": [
    "### Missing values"
   ]
  },
  {
   "cell_type": "code",
   "execution_count": 7,
   "metadata": {},
   "outputs": [
    {
     "name": "stdout",
     "output_type": "stream",
     "text": [
      "The number of null values by column is: \n",
      "SpMax_L                  0\n",
      "J_Dz(e)                  0\n",
      "nHM                      0\n",
      "F01[N-N]                 0\n",
      "F04[C-N]                 0\n",
      "NssssC                   0\n",
      "nCb-                     0\n",
      "C%                       0\n",
      "nCp                      0\n",
      "nO                       0\n",
      "F03[C-N]                 0\n",
      "SdssC                    0\n",
      "HyWi_B(m)                0\n",
      "LOC                      0\n",
      "SM6_L                    0\n",
      "F03[C-O]                 0\n",
      "Me                       0\n",
      "Mi                       0\n",
      "nN-N                     0\n",
      "nArNO2                   0\n",
      "nCRX3                    0\n",
      "SpPosA_B(p)              0\n",
      "nCIR                     0\n",
      "B01[C-Br]                0\n",
      "B03[C-Cl]                0\n",
      "N-073                    0\n",
      "SpMax_A                  0\n",
      "Psi_i_1d                 0\n",
      "B04[C-Br]                0\n",
      "SdO                      0\n",
      "TI2_L                    0\n",
      "nCrt                     0\n",
      "C-026                    0\n",
      "F02[C-N]                 0\n",
      "nHDon                    0\n",
      "SpMax_B(m)               0\n",
      "Psi_i_A                  0\n",
      "nN                       0\n",
      "SM6_B(m)                 0\n",
      "nArCOOR                  0\n",
      "nX                       0\n",
      "experimental class       0\n",
      "Unnamed: 42           1055\n",
      "dtype: int64\n"
     ]
    }
   ],
   "source": [
    "print(\"The number of null values by column is: \")\n",
    "print(df.isnull().sum())"
   ]
  },
  {
   "cell_type": "markdown",
   "metadata": {},
   "source": [
    "## Data Preprocessing"
   ]
  },
  {
   "cell_type": "markdown",
   "metadata": {},
   "source": [
    "delete column with null values"
   ]
  },
  {
   "cell_type": "code",
   "execution_count": 8,
   "metadata": {},
   "outputs": [],
   "source": [
    "df = df.dropna(axis=1)"
   ]
  },
  {
   "cell_type": "markdown",
   "metadata": {},
   "source": [
<<<<<<< Updated upstream
    "Replacing the RB to 1 and NRB to 0"
=======
    "## Data Processing"
   ]
  },
  {
   "cell_type": "markdown",
   "metadata": {},
   "source": [
    "Normalization"
   ]
  },
  {
   "cell_type": "code",
   "execution_count": 17,
   "metadata": {},
   "outputs": [
    {
     "data": {
      "image/png": "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",
      "text/plain": [
       "<Figure size 640x480 with 1 Axes>"
      ]
     },
     "metadata": {},
     "output_type": "display_data"
    },
    {
     "data": {
      "text/html": [
       "<style>#sk-container-id-6 {color: black;}#sk-container-id-6 pre{padding: 0;}#sk-container-id-6 div.sk-toggleable {background-color: white;}#sk-container-id-6 label.sk-toggleable__label {cursor: pointer;display: block;width: 100%;margin-bottom: 0;padding: 0.3em;box-sizing: border-box;text-align: center;}#sk-container-id-6 label.sk-toggleable__label-arrow:before {content: \"▸\";float: left;margin-right: 0.25em;color: #696969;}#sk-container-id-6 label.sk-toggleable__label-arrow:hover:before {color: black;}#sk-container-id-6 div.sk-estimator:hover label.sk-toggleable__label-arrow:before {color: black;}#sk-container-id-6 div.sk-toggleable__content {max-height: 0;max-width: 0;overflow: hidden;text-align: left;background-color: #f0f8ff;}#sk-container-id-6 div.sk-toggleable__content pre {margin: 0.2em;color: black;border-radius: 0.25em;background-color: #f0f8ff;}#sk-container-id-6 input.sk-toggleable__control:checked~div.sk-toggleable__content {max-height: 200px;max-width: 100%;overflow: auto;}#sk-container-id-6 input.sk-toggleable__control:checked~label.sk-toggleable__label-arrow:before {content: \"▾\";}#sk-container-id-6 div.sk-estimator input.sk-toggleable__control:checked~label.sk-toggleable__label {background-color: #d4ebff;}#sk-container-id-6 div.sk-label input.sk-toggleable__control:checked~label.sk-toggleable__label {background-color: #d4ebff;}#sk-container-id-6 input.sk-hidden--visually {border: 0;clip: rect(1px 1px 1px 1px);clip: rect(1px, 1px, 1px, 1px);height: 1px;margin: -1px;overflow: hidden;padding: 0;position: absolute;width: 1px;}#sk-container-id-6 div.sk-estimator {font-family: monospace;background-color: #f0f8ff;border: 1px dotted black;border-radius: 0.25em;box-sizing: border-box;margin-bottom: 0.5em;}#sk-container-id-6 div.sk-estimator:hover {background-color: #d4ebff;}#sk-container-id-6 div.sk-parallel-item::after {content: \"\";width: 100%;border-bottom: 1px solid gray;flex-grow: 1;}#sk-container-id-6 div.sk-label:hover label.sk-toggleable__label {background-color: #d4ebff;}#sk-container-id-6 div.sk-serial::before {content: \"\";position: absolute;border-left: 1px solid gray;box-sizing: border-box;top: 0;bottom: 0;left: 50%;z-index: 0;}#sk-container-id-6 div.sk-serial {display: flex;flex-direction: column;align-items: center;background-color: white;padding-right: 0.2em;padding-left: 0.2em;position: relative;}#sk-container-id-6 div.sk-item {position: relative;z-index: 1;}#sk-container-id-6 div.sk-parallel {display: flex;align-items: stretch;justify-content: center;background-color: white;position: relative;}#sk-container-id-6 div.sk-item::before, #sk-container-id-6 div.sk-parallel-item::before {content: \"\";position: absolute;border-left: 1px solid gray;box-sizing: border-box;top: 0;bottom: 0;left: 50%;z-index: -1;}#sk-container-id-6 div.sk-parallel-item {display: flex;flex-direction: column;z-index: 1;position: relative;background-color: white;}#sk-container-id-6 div.sk-parallel-item:first-child::after {align-self: flex-end;width: 50%;}#sk-container-id-6 div.sk-parallel-item:last-child::after {align-self: flex-start;width: 50%;}#sk-container-id-6 div.sk-parallel-item:only-child::after {width: 0;}#sk-container-id-6 div.sk-dashed-wrapped {border: 1px dashed gray;margin: 0 0.4em 0.5em 0.4em;box-sizing: border-box;padding-bottom: 0.4em;background-color: white;}#sk-container-id-6 div.sk-label label {font-family: monospace;font-weight: bold;display: inline-block;line-height: 1.2em;}#sk-container-id-6 div.sk-label-container {text-align: center;}#sk-container-id-6 div.sk-container {/* jupyter's `normalize.less` sets `[hidden] { display: none; }` but bootstrap.min.css set `[hidden] { display: none !important; }` so we also need the `!important` here to be able to override the default hidden behavior on the sphinx rendered scikit-learn.org. See: https://github.com/scikit-learn/scikit-learn/issues/21755 */display: inline-block !important;position: relative;}#sk-container-id-6 div.sk-text-repr-fallback {display: none;}</style><div id=\"sk-container-id-6\" class=\"sk-top-container\"><div class=\"sk-text-repr-fallback\"><pre>MinMaxScaler()</pre><b>In a Jupyter environment, please rerun this cell to show the HTML representation or trust the notebook. <br />On GitHub, the HTML representation is unable to render, please try loading this page with nbviewer.org.</b></div><div class=\"sk-container\" hidden><div class=\"sk-item\"><div class=\"sk-estimator sk-toggleable\"><input class=\"sk-toggleable__control sk-hidden--visually\" id=\"sk-estimator-id-6\" type=\"checkbox\" checked><label for=\"sk-estimator-id-6\" class=\"sk-toggleable__label sk-toggleable__label-arrow\">MinMaxScaler</label><div class=\"sk-toggleable__content\"><pre>MinMaxScaler()</pre></div></div></div></div></div>"
      ],
      "text/plain": [
       "MinMaxScaler()"
      ]
     },
     "execution_count": 17,
     "metadata": {},
     "output_type": "execute_result"
    }
   ],
   "source": [
    "#on affiche un graph avec les valeurs de nCp\n",
    "#on colorie les points en fonction de la classe (en bleu pour les Rb et en rouge pour les NRB)\n",
    "plt.scatter(y=df['nCp'],x=df['C%']\n",
    "            ,c=df['experimental class'].apply(lambda x: 'blue' if x == 'RB' else 'red'))\n",
    "plt.ylabel('nCp')\n",
    "plt.xlabel('C%')\n",
    "plt.show()\n",
    "from sklearn.preprocessing import MinMaxScaler\n",
    "\n",
    "\n",
    "scaler=MinMaxScaler()\n",
    "scaler"
   ]
  },
  {
   "cell_type": "markdown",
   "metadata": {},
   "source": [
    "## Data Analysis"
   ]
  },
  {
   "cell_type": "markdown",
   "metadata": {},
   "source": [
    "Test pie"
>>>>>>> Stashed changes
   ]
  },
  {
   "cell_type": "code",
   "execution_count": 13,
   "metadata": {},
   "outputs": [],
   "source": [
    "df.replace([\"RB\",\"NRB\"],[1,0], inplace = True)"
   ]
  },
  {
   "cell_type": "markdown",
   "metadata": {},
   "source": [
    "## Data Processing"
   ]
  },
  {
   "cell_type": "markdown",
   "metadata": {},
   "source": [
    "## Data Analysis"
   ]
  },
  {
   "cell_type": "markdown",
   "metadata": {},
   "source": [
    "Test % NRB & RB"
   ]
  },
  {
   "cell_type": "code",
   "execution_count": 22,
   "metadata": {},
   "outputs": [
    {
     "data": {
      "text/plain": [
<<<<<<< Updated upstream
       "([<matplotlib.patches.Wedge at 0x2b75e30e5b0>,\n",
       "  <matplotlib.patches.Wedge at 0x2b75e30e4f0>],\n",
=======
       "([<matplotlib.patches.Wedge at 0x1f57434f010>,\n",
       "  <matplotlib.patches.Wedge at 0x1f5743794d0>],\n",
>>>>>>> Stashed changes
       " [Text(-0.5376620656573475, 0.9596455091090013, 'NRB'),\n",
       "  Text(0.537662155505842, -0.9596454587694415, 'RB')],\n",
       " [Text(-0.2932702176312804, 0.5234430049685461, '66.3%'),\n",
       "  Text(0.29327026663955014, -0.5234429775106044, '33.7%')])"
      ]
     },
     "execution_count": 22,
     "metadata": {},
     "output_type": "execute_result"
    },
    {
     "data": {
      "image/png": "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",
      "text/plain": [
       "<Figure size 640x480 with 1 Axes>"
      ]
     },
     "metadata": {},
     "output_type": "display_data"
    }
   ],
   "source": [
    "sns.set_style(\"whitegrid\")\n",
    "colors = ['#ffcc99','#99ff99']\n",
    "plt.pie(df['experimental class'].value_counts(), labels=['NRB','RB'], autopct='%1.1f%%', colors =colors)"
   ]
  },
  {
   "cell_type": "code",
   "execution_count": null,
   "metadata": {},
   "outputs": [],
   "source": []
  }
 ],
 "metadata": {
  "kernelspec": {
   "display_name": "Python 3",
   "language": "python",
   "name": "python3"
  },
  "language_info": {
   "codemirror_mode": {
    "name": "ipython",
    "version": 3
   },
   "file_extension": ".py",
   "mimetype": "text/x-python",
   "name": "python",
   "nbconvert_exporter": "python",
   "pygments_lexer": "ipython3",
   "version": "3.8.17"
  }
 },
 "nbformat": 4,
 "nbformat_minor": 2
}
